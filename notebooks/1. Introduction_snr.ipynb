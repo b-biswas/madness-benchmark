{
 "cells": [
  {
   "cell_type": "code",
   "execution_count": null,
   "id": "0",
   "metadata": {},
   "outputs": [
    {
     "name": "stderr",
     "output_type": "stream",
     "text": [
      "/Users/bbiswas/miniconda3/envs/madness/lib/python3.9/site-packages/tqdm/auto.py:21: TqdmWarning: IProgress not found. Please update jupyter and ipywidgets. See https://ipywidgets.readthedocs.io/en/stable/user_install.html\n",
      "  from .autonotebook import tqdm as notebook_tqdm\n"
     ]
    }
   ],
   "source": [
    "import os\n",
    "\n",
    "import yaml\n",
    "\n",
    "os.environ[\"TF_CPP_MIN_LOG_LEVEL\"] = \"3\"\n",
    "\n",
    "import astropy.table\n",
    "import btk\n",
    "import matplotlib as mpl\n",
    "import matplotlib.pyplot as plt\n",
    "import numpy as np\n",
    "import seaborn as sns\n",
    "from galcheat.utilities import mag2counts, mean_sky_level\n",
    "from numba import jit\n",
    "\n",
    "from madness_benchmark.utils import get_benchmark_config_path\n",
    "\n",
    "mpl.rcParams[\"savefig.dpi\"] = 1200"
   ]
  },
  {
   "cell_type": "code",
   "execution_count": null,
   "id": "1",
   "metadata": {},
   "outputs": [],
   "source": [
    "with open(get_benchmark_config_path()) as f:\n",
    "    benchmark_config = yaml.safe_load(f)\n",
    "btksims_config = benchmark_config[\"btksims\"]"
   ]
  },
  {
   "cell_type": "code",
   "execution_count": null,
   "id": "2",
   "metadata": {},
   "outputs": [],
   "source": [
    "CATSIM_CATALOG_PATH = btksims_config[\"ORIGINAL_CAT_PATH\"][\n",
    "    benchmark_config[\"survey_name\"]\n",
    "]\n",
    "\n",
    "_, ext = os.path.splitext(CATSIM_CATALOG_PATH)\n",
    "fmt = \"fits\" if ext.lower() == \".fits\" else \"ascii.basic\"\n",
    "catalog = astropy.table.Table.read(CATSIM_CATALOG_PATH, format=fmt)"
   ]
  },
  {
   "cell_type": "code",
   "execution_count": null,
   "id": "3",
   "metadata": {},
   "outputs": [],
   "source": [
    "mpl.rcParams[\"text.usetex\"] = True"
   ]
  },
  {
   "cell_type": "markdown",
   "id": "4",
   "metadata": {},
   "source": [
    "# Compute SNR"
   ]
  },
  {
   "cell_type": "code",
   "execution_count": null,
   "id": "5",
   "metadata": {},
   "outputs": [],
   "source": [
    "survey = btk.survey.get_surveys(\"LSST\")\n",
    "r_filter = survey.get_filter(\"r\")"
   ]
  },
  {
   "cell_type": "code",
   "execution_count": null,
   "id": "6",
   "metadata": {
    "tags": []
   },
   "outputs": [],
   "source": [
    "snr = []\n",
    "\n",
    "# For calculation of source counts (C) and mean_sky_level (B) refer to https://github.com/aboucaud/galcheat/blob/main/galcheat/utilities.py\n",
    "# For Computaion of SNR, refer to: https://smtn-002.lsst.io/\n",
    "\n",
    "# background noise\n",
    "B = mean_sky_level(\"LSST\", \"r\").to_value(\"electron\")\n",
    "\n",
    "# Assume gain = 1\n",
    "g = 1\n",
    "\n",
    "# compute sigma_instr https://smtn-002.lsst.io/\n",
    "dark_current = 0.2\n",
    "exp_time = 15  # 2 * 15 sec exposures\n",
    "num_exp = 184 * 2  # 184 visits from: https://arxiv.org/pdf/0805.2366.pdf\n",
    "read_noise = 8.8\n",
    "\n",
    "sig_instr = np.sqrt((read_noise**2 + dark_current * exp_time) * num_exp)\n",
    "\n",
    "# But BTK does not add instr noise (https://github.com/LSSTDESC/BlendingToolKit/blob/main/btk/draw_blends.py lines: 418-432)\n",
    "sig_instr = 0  # ok to set it to 0\n",
    "\n",
    "\n",
    "@jit\n",
    "def computeFWHM(hlr_a, hlr_b):\n",
    "    return 2 * np.sqrt(\n",
    "        hlr_a * hlr_b\n",
    "    )  # fwhm = 2*hlr from: https://www.researchgate.net/publication/1778778_Accurate_photometry_of_extended_spherically_symmetric_sources/figures?lo=1\n",
    "\n",
    "\n",
    "@jit\n",
    "def compute_snr(C, B, FWHM_gal, FWHM_PSF=r_filter.psf_fwhm.value, sig_insrt=sig_instr):\n",
    "\n",
    "    # convolve with PSF with FWHM of galaxy\n",
    "    FWHM = np.sqrt(FWHM_gal**2 + FWHM_PSF**2)  # convolution of 2 PSF\n",
    "\n",
    "    # Source footprint https://smtn-002.lsst.io/\n",
    "    n_eff = 2.266 * ((FWHM / 0.2) ** 2)\n",
    "\n",
    "    # compute_snr\n",
    "    snr = C / np.sqrt(\n",
    "        C + (B / g + sig_instr**2) * n_eff\n",
    "    )  # from : https://smtn-002.lsst.io/\n",
    "    return snr\n",
    "\n",
    "\n",
    "for row in catalog:\n",
    "    # Source counts\n",
    "    C = mag2counts(row[\"r_ab\"], \"LSST\", \"r\").to_value(\"electron\")  # is this correct?\n",
    "\n",
    "    # FWHM of galaxy\n",
    "    FWHM_row_d = computeFWHM(row[\"a_d\"], row[\"b_d\"])\n",
    "    FWHM_row_b = computeFWHM(row[\"a_b\"], row[\"b_b\"])\n",
    "    FWHM_gal = FWHM_row_d if FWHM_row_d > FWHM_row_b else FWHM_row_b\n",
    "\n",
    "    current_snr = compute_snr(C=C, B=B, FWHM_gal=FWHM_gal)\n",
    "\n",
    "    snr.append(current_snr)"
   ]
  },
  {
   "cell_type": "code",
   "execution_count": null,
   "id": "7",
   "metadata": {},
   "outputs": [],
   "source": [
    "snr = np.array(snr)\n",
    "catalog[\"r_band_snr\"] = snr"
   ]
  },
  {
   "cell_type": "markdown",
   "id": "8",
   "metadata": {},
   "source": [
    "## Isolate snr >= 10 datalog "
   ]
  },
  {
   "cell_type": "code",
   "execution_count": null,
   "id": "9",
   "metadata": {},
   "outputs": [],
   "source": [
    "snr_10_cat = catalog[snr >= 10]"
   ]
  },
  {
   "cell_type": "code",
   "execution_count": null,
   "id": "10",
   "metadata": {},
   "outputs": [
    {
     "data": {
      "image/png": "[encoded data removed]",
      "text/plain": [
       "<Figure size 600x600 with 3 Axes>"
      ]
     },
     "metadata": {},
     "output_type": "display_data"
    }
   ],
   "source": [
    "sns.set_theme(\n",
    "    font_scale=1.2,\n",
    "    style={\n",
    "        \"style\": \"whitegrid\",\n",
    "        \"xtick.bottom\": True,\n",
    "        \"axes.grid\": False,\n",
    "        \"xtick.top\": False,\n",
    "        \"ytick.left\": True,\n",
    "        \"ytick.right\": False,\n",
    "        \"text.color\": \".1\",\n",
    "        \"xtick.color\": \".1\",\n",
    "        \"ytick.color\": \".1\",\n",
    "        \"axes.edgecolor\": \".85\",\n",
    "        \"axes.labelcolor\": \".1\",\n",
    "    },\n",
    "    rc={\"grid.color\": \".85\", \"grid.linestyle\": \"--\"},\n",
    ")\n",
    "fig, ax = plt.subplots(3, 1, figsize=(6, 6))\n",
    "cat_col_names = [\"r_band_snr\", \"redshift\", \"r_ab\"]\n",
    "fig_col_names = [r\"\\textit{r}-band SNR\", \"redshift\", r\"\\textit{r}-AB magnitude\"]\n",
    "xlims = [(1, 1000), (0, 4), (18, 28)]\n",
    "log_scales = [True, False, False]\n",
    "\n",
    "for p_num in range(3):\n",
    "\n",
    "    sns_df = {}\n",
    "\n",
    "    sns_df[\"temp\"] = list(snr_10_cat[cat_col_names[p_num]])\n",
    "    sns_df[\"r-band SNR\"] = [\"> 10\"] * len(snr_10_cat)\n",
    "\n",
    "    sns_df[\"temp\"].extend(list(catalog[cat_col_names[p_num]]))\n",
    "    sns_df[\"r-band SNR\"].extend([\"all\"] * len(catalog))\n",
    "\n",
    "    if cat_col_names[p_num] == \"r_band_snr\":\n",
    "        bins = np.log10(np.logspace(0, 3, 100))\n",
    "    else:\n",
    "        bins = 100\n",
    "\n",
    "    ax_current = sns.histplot(\n",
    "        data=sns_df,\n",
    "        x=\"temp\",\n",
    "        hue=\"r-band SNR\",\n",
    "        bins=bins,\n",
    "        common_norm=True,\n",
    "        common_bins=True,\n",
    "        binrange=(np.log(xlims[p_num][0]), np.log(xlims[p_num][1]))\n",
    "        if log_scales[p_num]\n",
    "        else xlims[p_num],\n",
    "        log_scale=10 if log_scales[p_num] else False,\n",
    "        alpha=0.5,\n",
    "        stat=\"density\",\n",
    "        # kde=True,\n",
    "        # kde_kws={\"cut\":0},\n",
    "        ax=ax[p_num],\n",
    "        # element=\"step\" if cat_col_names[p_num] == \"r_band_snr\" else \"poly\",\n",
    "        element=\"step\",\n",
    "    )\n",
    "\n",
    "    legend = ax_current.get_legend()\n",
    "    handles = legend.legend_handles\n",
    "    ax_current.legend(handles, [r\"$\\geq 10$\", \"All\"], title=r\"\\textit{r}-band SNR\")\n",
    "\n",
    "    # ax_current.legend(title=r\"$\\textit{r}$-band SNR\")\n",
    "    ax[p_num].set_xlim(xlims[p_num])\n",
    "\n",
    "    ax[p_num].set_ylabel(\"Arbitrary\")\n",
    "    if p_num > 0:\n",
    "        ax[p_num].get_legend().remove()\n",
    "\n",
    "    ax[p_num].set_xlabel(fig_col_names[p_num])\n",
    "\n",
    "fig.tight_layout()\n",
    "plt.savefig(\n",
    "    os.path.join(\"results\", \"catalog_distrib.pdf\"), format=\"pdf\", bbox_inches=\"tight\"\n",
    ")"
   ]
  },
  {
   "cell_type": "markdown",
   "id": "11",
   "metadata": {},
   "source": [
    "## Save the catalog"
   ]
  },
  {
   "cell_type": "code",
   "execution_count": null,
   "id": "12",
   "metadata": {},
   "outputs": [],
   "source": [
    "snr_10_cat.write(\n",
    "    btksims_config[\"CAT_PATH\"][benchmark_config[\"survey_name\"]], overwrite=True\n",
    ")"
   ]
  },
  {
   "cell_type": "markdown",
   "id": "13",
   "metadata": {},
   "source": [
    "## Test"
   ]
  },
  {
   "cell_type": "code",
   "execution_count": null,
   "id": "14",
   "metadata": {},
   "outputs": [],
   "source": [
    "CATSIM_CATALOG_PATH = btksims_config[\"CAT_PATH\"][benchmark_config[\"survey_name\"]]\n",
    "\n",
    "_, ext = os.path.splitext(CATSIM_CATALOG_PATH)\n",
    "fmt = \"fits\" if ext.lower() == \".fits\" else \"ascii.basic\"\n",
    "test_catalog = astropy.table.Table.read(CATSIM_CATALOG_PATH, format=fmt)"
   ]
  },
  {
   "cell_type": "code",
   "execution_count": null,
   "id": "15",
   "metadata": {},
   "outputs": [
    {
     "data": {
      "image/png": "[encoded data removed]",
      "text/plain": [
       "<Figure size 640x480 with 1 Axes>"
      ]
     },
     "metadata": {},
     "output_type": "display_data"
    }
   ],
   "source": [
    "sns.histplot(\n",
    "    data=snr_10_cat.to_pandas(), x=\"r_ab\", y=\"r_band_snr\", binrange=[(21, 27), (0, 500)]\n",
    ");"
   ]
  },
  {
   "cell_type": "code",
   "execution_count": null,
   "id": "16",
   "metadata": {},
   "outputs": [],
   "source": []
  }
 ],
 "metadata": {
  "kernelspec": {
   "display_name": "madness",
   "language": "python",
   "name": "madness"
  },
  "language_info": {
   "codemirror_mode": {
    "name": "ipython",
    "version": 3
   },
   "file_extension": ".py",
   "mimetype": "text/x-python",
   "name": "python",
   "nbconvert_exporter": "python",
   "pygments_lexer": "ipython3",
   "version": "3.9.7"
  }
 },
 "nbformat": 4,
 "nbformat_minor": 5
}
